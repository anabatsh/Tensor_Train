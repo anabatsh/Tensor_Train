{
 "cells": [
  {
   "cell_type": "code",
   "execution_count": 2,
   "metadata": {},
   "outputs": [],
   "source": [
    "import numpy as np\n",
    "import torch \n",
    "import torch.linalg as LA\n",
    "\n",
    "from lib import *"
   ]
  },
  {
   "cell_type": "code",
   "execution_count": 3,
   "metadata": {},
   "outputs": [],
   "source": [
    "%load_ext autoreload\n",
    "%autoreload 2"
   ]
  },
  {
   "cell_type": "markdown",
   "metadata": {},
   "source": [
    "### Проверка корректности функций"
   ]
  },
  {
   "cell_type": "code",
   "execution_count": 4,
   "metadata": {},
   "outputs": [],
   "source": [
    "d = 3\n",
    "inp_modes = [2, 3, 4]\n",
    "out_modes = [2, 2, 2]\n",
    "ranks = [1, 2, 2, 1]\n",
    "\n",
    "t = TT_linear(inp_modes, out_modes, ranks)\n",
    "W_cores = TensorTrain(t.W_cores, inp_modes, out_modes, ranks)\n",
    "W = W_cores.to_tensor()"
   ]
  },
  {
   "cell_type": "code",
   "execution_count": 5,
   "metadata": {},
   "outputs": [
    {
     "data": {
      "text/plain": [
       "shape: torch.Size([1, 2, 2, 2])\n",
       "shape: torch.Size([2, 3, 2, 2])\n",
       "shape: torch.Size([2, 4, 2, 1])"
      ]
     },
     "execution_count": 5,
     "metadata": {},
     "output_type": "execute_result"
    }
   ],
   "source": [
    "W_cores"
   ]
  },
  {
   "cell_type": "code",
   "execution_count": 6,
   "metadata": {},
   "outputs": [
    {
     "data": {
      "text/plain": [
       "True"
      ]
     },
     "execution_count": 6,
     "metadata": {},
     "output_type": "execute_result"
    }
   ],
   "source": [
    "#Транспонирование\n",
    "\n",
    "torch.allclose(W_cores.t().to_tensor(), W.t())"
   ]
  },
  {
   "cell_type": "code",
   "execution_count": 7,
   "metadata": {},
   "outputs": [
    {
     "data": {
      "text/plain": [
       "True"
      ]
     },
     "execution_count": 7,
     "metadata": {},
     "output_type": "execute_result"
    }
   ],
   "source": [
    "# Умножение на тензор\n",
    "\n",
    "x = torch.rand(5, 24)\n",
    "torch.allclose(x @ W, x * W_cores)"
   ]
  },
  {
   "cell_type": "code",
   "execution_count": 8,
   "metadata": {},
   "outputs": [
    {
     "data": {
      "text/plain": [
       "True"
      ]
     },
     "execution_count": 8,
     "metadata": {},
     "output_type": "execute_result"
    }
   ],
   "source": [
    "# Перемножение TT\n",
    "\n",
    "torch.allclose((W_cores * W_cores.t()).to_tensor(), W @ W.t())"
   ]
  },
  {
   "cell_type": "code",
   "execution_count": 9,
   "metadata": {},
   "outputs": [
    {
     "data": {
      "text/plain": [
       "True"
      ]
     },
     "execution_count": 9,
     "metadata": {},
     "output_type": "execute_result"
    }
   ],
   "source": [
    "# Сложение TT\n",
    "\n",
    "torch.allclose((W_cores + W_cores).to_tensor(), 2 * W)"
   ]
  },
  {
   "cell_type": "code",
   "execution_count": 10,
   "metadata": {},
   "outputs": [
    {
     "data": {
      "text/plain": [
       "4.6357661485672"
      ]
     },
     "execution_count": 10,
     "metadata": {},
     "output_type": "execute_result"
    }
   ],
   "source": [
    "# Норма\n",
    "\n",
    "W_cores.norm()"
   ]
  },
  {
   "cell_type": "code",
   "execution_count": 11,
   "metadata": {},
   "outputs": [
    {
     "data": {
      "text/plain": [
       "True"
      ]
     },
     "execution_count": 11,
     "metadata": {},
     "output_type": "execute_result"
    }
   ],
   "source": [
    "# TT_SVD\n",
    "\n",
    "torch.allclose(tt_svd_2D(W, inp_modes, out_modes, 10).to_tensor(), W, atol=1e-5)"
   ]
  },
  {
   "cell_type": "code",
   "execution_count": 12,
   "metadata": {},
   "outputs": [
    {
     "name": "stdout",
     "output_type": "stream",
     "text": [
      "True\n"
     ]
    }
   ],
   "source": [
    "# ортогонализация справа\n",
    "\n",
    "W_cores_my_orth = W_cores._orthogonalize_right()\n",
    "res = []\n",
    "for core in W_cores_my_orth.cores[1:]:\n",
    "    H = tt_methods._H(core)\n",
    "    res.append(torch.allclose(H @ H.t(), torch.eye(H.shape[0]), atol=1e-6))\n",
    "print(all(res))"
   ]
  },
  {
   "cell_type": "code",
   "execution_count": 13,
   "metadata": {},
   "outputs": [
    {
     "name": "stdout",
     "output_type": "stream",
     "text": [
      "True\n"
     ]
    }
   ],
   "source": [
    "# ортогонализация справа\n",
    "\n",
    "W_cores_my_orth = W_cores._orthogonalize_left()\n",
    "res = []\n",
    "for core in W_cores_my_orth.cores[:-1]:\n",
    "    V = tt_methods._V(core)\n",
    "    res.append(torch.allclose(V.t() @ V, torch.eye(V.shape[1]), atol=1e-6))\n",
    "print(all(res))"
   ]
  },
  {
   "cell_type": "code",
   "execution_count": 18,
   "metadata": {},
   "outputs": [],
   "source": [
    "def _round(A, return_tt=True):\n",
    "    cores = _orthogonalize_right(A, False)\n",
    "    ranks = [1]\n",
    "    for k in range(A.d - 1):\n",
    "        U, S, V = LA.svd(_V(cores[k]), full_matrices=False)\n",
    "        ranks.append(U.shape[1] - 1)\n",
    "        U = U[:, 0:ranks[k + 1]]\n",
    "        S = S[0:ranks[k + 1]]\n",
    "        V = V[0:ranks[k + 1]]\n",
    "        cores[k] = U.reshape(list(cores[k].shape[:-1]) + [ranks[k + 1]])\n",
    "        cores[k+1] = (torch.diag(S) @ V @ _H(cores[k+1])).reshape([ranks[k+1]] + list(cores[k+1].shape[1:]))\n",
    "    return TensorTrain(cores, A.inp_modes, A.out_modes, ranks) if return_tt else cores"
   ]
  },
  {
   "cell_type": "code",
   "execution_count": 263,
   "metadata": {},
   "outputs": [
    {
     "data": {
      "text/plain": [
       "False"
      ]
     },
     "execution_count": 263,
     "metadata": {},
     "output_type": "execute_result"
    }
   ],
   "source": [
    "# округление\n",
    "\n",
    "Y_cores_round = _round(Y_cores)\n",
    "Y = Y_cores_round.to_tensor().reshape(X.shape)\n",
    "torch.allclose(Y, X, atol=1e-5)"
   ]
  },
  {
   "cell_type": "code",
   "execution_count": 267,
   "metadata": {},
   "outputs": [
    {
     "data": {
      "text/plain": [
       "(17.20688796043396, 12.020608961582184)"
      ]
     },
     "execution_count": 267,
     "metadata": {},
     "output_type": "execute_result"
    }
   ],
   "source": [
    "Y_cores.norm(), Y_cores_round.norm()"
   ]
  },
  {
   "cell_type": "code",
   "execution_count": null,
   "metadata": {},
   "outputs": [],
   "source": []
  }
 ],
 "metadata": {
  "kernelspec": {
   "display_name": "base",
   "language": "python",
   "name": "base"
  },
  "language_info": {
   "codemirror_mode": {
    "name": "ipython",
    "version": 3
   },
   "file_extension": ".py",
   "mimetype": "text/x-python",
   "name": "python",
   "nbconvert_exporter": "python",
   "pygments_lexer": "ipython3",
   "version": "3.9.1"
  }
 },
 "nbformat": 4,
 "nbformat_minor": 5
}
